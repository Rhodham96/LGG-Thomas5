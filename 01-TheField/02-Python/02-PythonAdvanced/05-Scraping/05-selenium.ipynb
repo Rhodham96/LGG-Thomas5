{
 "cells": [
  {
   "cell_type": "markdown",
   "metadata": {},
   "source": [
    "# Scraping with Selenium\n",
    "\n",
    "A lot of modern websites relies on Javascript to navigate dynamically in the content. However the usual Python web scrapers (like `requests`) are not able to execute javascript. Since then they are struggling in getting the content of dynamic web pages.\n",
    "\n",
    "Selenium is THE solution for tackling this problem. Initially it has been created to automate tests on websites. It will open your browser _for real_ and allow you to simulate human interactions in website through Python commands.\n",
    "\n",
    "For example it can be useful when information is accessible by clicking on buttons (which is not possible with `requests` and `beautifulsoup`)."
   ]
  },
  {
   "cell_type": "markdown",
   "metadata": {},
   "source": [
    "### Install Selenium according to this manual\n",
    "\n",
    "https://selenium-python.readthedocs.io/installation.html#downloading-python-bindings-for-selenium/bin\n",
    "\n",
    "*NB: On Linux, put your `geckodriver` (the downloaded extension) in the equivalent path on your machine into `/home/<YOUR_NAME>/.local/bin/`*\n",
    "\n",
    "If you want a monolith version of this code which is up to date, you may check the `selenium.py` script made by Robin."
   ]
  },
  {
   "cell_type": "code",
   "execution_count": 1,
   "metadata": {},
   "outputs": [],
   "source": [
    "# The selenium.webdriver module provides all the implementations of WebDriver\n",
    "# Currently supported are Firefox, Chrome, IE and Remote. The `Keys` class provides keys on\n",
    "# the keyboard such as RETURN, F1, ALT etc.\n",
    "from selenium import webdriver\n",
    "from selenium.webdriver.common.keys import Keys\n",
    "from selenium.webdriver.common.by import By"
   ]
  },
  {
   "cell_type": "markdown",
   "metadata": {},
   "source": [
    "### Search engine simulation"
   ]
  },
  {
   "cell_type": "markdown",
   "metadata": {},
   "source": [
    "We will simulate a query on the official Python website by using the search bar."
   ]
  },
  {
   "cell_type": "code",
   "execution_count": 5,
   "metadata": {},
   "outputs": [],
   "source": [
    "# Here, we create instance of Firefox WebDriver.\n",
    "driver = webdriver.Safari()\n",
    "\n",
    "# The driver.get method will lead to a page given by the URL. WebDriver will wait until the page is fully\n",
    "# loaded (i.e. the \"onload\" event has been triggered) before returning the control to your script.\n",
    "# It should be noted that if your page uses a lot of AJAX calls when loading, WebDriver may not know\n",
    "# when it was fully loaded.\n",
    "driver.get(\"http://www.python.org\")\n",
    "\n",
    "# The following line is a statement confirming that the title contains the word \"Python\".\n",
    "assert \"Python\" in driver.title\n",
    "\n",
    "# WebDriver offers a method `find_element` that aims to search for item based on attributes\n",
    "# For example, the input text element can be located by its name attribute by\n",
    "# using the attribute `name` with the value `q`\n",
    "elem = driver.find_element(By.NAME, \"q\")\n",
    "\n",
    "# Then we send keys. This is similar to entering keys using your keyboard.\n",
    "# Special keys can be sent using the `Keys` class imported in line 7 (from selenium.webdriver.common.keys import Keys).\n",
    "# For security reasons, we will delete any pre-filled text in the input field\n",
    "# (for example, \"Search\") so that it does not affect our search results:\n",
    "elem.clear()\n",
    "elem.send_keys(\"pycon\")\n",
    "elem.send_keys(Keys.RETURN)\n",
    "\n",
    "# After submitting the page, you should get the result if there is one. To ensure that certain results\n",
    "# are found, make an assertion that ensures that the source page does not contain the word \"No results found\".\n",
    "assert \"No results found.\" not in driver.page_source\n",
    "driver.close()"
   ]
  },
  {
   "cell_type": "markdown",
   "metadata": {},
   "source": [
    "### Getting the title of all the articles from the homepage of _The New York Times_\n",
    "\n",
    "First let's open the homepage of the newspaper's website.\n"
   ]
  },
  {
   "cell_type": "code",
   "execution_count": 92,
   "metadata": {},
   "outputs": [],
   "source": [
    "url = \"https://www.nytimes.com/\"\n",
    "\n",
    "driver = webdriver.Safari()\n",
    "driver.get(url)"
   ]
  },
  {
   "cell_type": "markdown",
   "metadata": {},
   "source": [
    "As you can see, you are facing the famous GDPR banner. Let's accept it in order to access the page!"
   ]
  },
  {
   "cell_type": "code",
   "execution_count": null,
   "metadata": {},
   "outputs": [],
   "source": [
    "cookie1 = {'name' : 'fides_consent', 'value' : '%7B%22consent%22%3A%7B%7D%2C%22identity%22%3A%7B%22fides_user_device_id%22%3A%22fc660568-3ec2-42ea-8320-35e830640263%22%7D%2C%22fides_meta%22%3A%7B%22version%22%3A%220.9.0%22%2C%22createdAt%22%3A%222025-03-25T09%3A02%3A30.940Z%22%2C%22updatedAt%22%3A%222025-03-25T09%3A03%3A01.645Z%22%2C%22consentMethod%22%3A%22reject%22%7D%2C%22tcf_consent%22%3A%7B%22system_consent_preferences%22%3A%7B%7D%2C%22system_legitimate_interests_preferences%22%3A%7B%7D%7D%2C%22fides_string%22%3A%22CQO03QAQO03QAGXABBENBiFgAAAAAAAAAAAAAAAAAAAA%2C1~%22%2C%22tcf_version_hash%22%3A%2209336ff51657%22%7D', 'domain': '.nytimes.com'}\n",
    "cookie2 = {'name' : 'nyt-gdpr', 'value' : '1', 'domain': '.nytimes.com'}\n",
    "cookie3 = {'name' : 'nyt-traceid', 'value' : '00000000000000000bccfe887fcbd446', 'domain': '.nytimes.com'}\n",
    "driver.add_cookie(cookie1)\n",
    "driver.add_cookie(cookie2)\n",
    "driver.add_cookie(cookie3)\n"
   ]
  },
  {
   "cell_type": "code",
   "execution_count": 94,
   "metadata": {},
   "outputs": [],
   "source": [
    "driver.refresh()"
   ]
  },
  {
   "cell_type": "code",
   "execution_count": 95,
   "metadata": {},
   "outputs": [],
   "source": [
    "from selenium import webdriver\n",
    "\n",
    "\n",
    "# Trouver l'élément avec la classe 'css-hqisq1' et cliquer sur le bouton enfant avec JavaScript\n",
    "driver.execute_script(\"\"\"\n",
    "    var parentElement = document.querySelector('.css-hqisq1'); \n",
    "    if (parentElement) {\n",
    "        var button = parentElement.querySelector('button');  // Trouver le bouton dans cet élément\n",
    "        if (button) {\n",
    "            button.click();  // Cliquer sur le bouton\n",
    "        } else {\n",
    "            console.log('Bouton introuvable');\n",
    "        }\n",
    "    } else {\n",
    "        console.log('Élément parent introuvable');\n",
    "    }\n",
    "\"\"\")"
   ]
  },
  {
   "cell_type": "markdown",
   "metadata": {},
   "source": [
    "Now let's get all the titles of the articles by using XPATH and let's store them in a list\n"
   ]
  },
  {
   "cell_type": "code",
   "execution_count": 96,
   "metadata": {},
   "outputs": [
    {
     "name": "stdout",
     "output_type": "stream",
     "text": [
      "['Analysis', 'Is Russia an Adversary or a Future Partner? Trump Aides May Have to Decide.', 'How a Cheap Drone Punctured Chernobyl’s 40,000 Ton Shield', 'Russia and Ukraine’s U.S.-Mediated Talks: What to Know', 'White House Inner Circle Discussed Military Plans in Extraordinary Breach', 'As Trump Policies Worry Scientists, France and Others Put Out a Welcome Mat', 'Washington Bends to Kennedy’s Agenda on Obesity and Healthy Eating', 'As Crises Grip U.S. Colleges, More Students Than Ever Are Set to Enroll', 'Columbia Student Sought by ICE Sues to Prevent Deportation', 'Columbia Faculty Protests as Trump Officials Hail University Concessions', 'She Was Released From Hamas Captivity. Now She’s Campaigning for Her Partner Still in Gaza.', 'Hillel, the Campus Jewish Group, Is Thriving, and Torn by Conflict', 'U.N. to Pull International Workers From Gaza Amid Israeli Strikes', 'A Palestinian Director of ‘No Other Land’ Is Attacked and Detained, Witnesses Say', 'What Makes Sydney’s New Beach Different? It’s 50 Miles Inland.', 'Forgotten in Jail Without a Lawyer: How a Texas Town Fails Poor Defendants', 'Leer en Español (Read in Spanish)', 'A Figure Skating Star Who Breaks the Mold', '‘Adolescence’ Has People Talking. Its Writer Wants Lawmakers to Act.', 'The Synagogue Massacre That Never Happened', 'Once Germany’s New Parliament Is Sworn In, Women Will Be a Rarer Sight', 'PBS and NPR Prepare for Showdown With Congress', 'Teen Who Set Off Avalanche Is 4th Person Killed on Alaska Slopes This Month', 'Why Driving in Singapore Is Like ‘Wearing a Rolex’', 'Wordle', 'Connections', 'Strands', 'Spelling Bee', 'The Crossword', 'The Mini Crossword']\n"
     ]
    }
   ],
   "source": [
    "article_titles = driver.find_elements(By.XPATH, \"//section[@class='story-wrapper']//a//div[@class='css-xdandi']//p\")\n",
    "all_titles = []\n",
    "for title in article_titles:\n",
    "    all_titles.append(title.text)\n",
    "\n",
    "print(all_titles)"
   ]
  },
  {
   "cell_type": "markdown",
   "metadata": {},
   "source": [
    "Here we are ! Let's close the browser then !"
   ]
  },
  {
   "cell_type": "code",
   "execution_count": 97,
   "metadata": {},
   "outputs": [],
   "source": [
    "driver.close()"
   ]
  },
  {
   "cell_type": "markdown",
   "metadata": {},
   "source": [
    "### Exercise\n",
    "\n",
    "1. Use Selenium for opening the homepage of your favourite newspaper (not the New York Times, too easy)\n",
    "2. Close the cookie banner (if it appears)\n",
    "3. Get the link of the first article of the page and open it\n",
    "4. Print the title and the content of the article\n",
    "\n",
    "**tip:** [Newspaper3k](https://pypi.org/project/newspaper3k/) is a powerful library for scraping articles from newspapers. Have a look to the `fulltext` method."
   ]
  }
 ],
 "metadata": {
  "kernelspec": {
   "display_name": "3.11.6",
   "language": "python",
   "name": "python3"
  },
  "language_info": {
   "codemirror_mode": {
    "name": "ipython",
    "version": 3
   },
   "file_extension": ".py",
   "mimetype": "text/x-python",
   "name": "python",
   "nbconvert_exporter": "python",
   "pygments_lexer": "ipython3",
   "version": "3.11.6"
  }
 },
 "nbformat": 4,
 "nbformat_minor": 2
}
