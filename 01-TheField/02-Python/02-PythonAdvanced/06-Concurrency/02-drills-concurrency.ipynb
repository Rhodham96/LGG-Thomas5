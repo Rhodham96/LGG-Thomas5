{
 "cells": [
  {
   "cell_type": "markdown",
   "metadata": {},
   "source": [
    "# Drill - Threading\n",
    "\n"
   ]
  },
  {
   "cell_type": "markdown",
   "metadata": {},
   "source": [
    "### Exercise 1\n",
    "In the `data/` folder, you have 10 files that contain Shakespears sonnets. You have to gather all these files into one file `data_all.txt` using threads. Be careful, the sonnets must appear in order."
   ]
  },
  {
   "cell_type": "code",
   "execution_count": null,
   "metadata": {},
   "outputs": [
    {
     "ename": "AttributeError",
     "evalue": "'NoneType' object has no attribute 'start'",
     "output_type": "error",
     "traceback": [
      "\u001b[31m---------------------------------------------------------------------------\u001b[39m",
      "\u001b[31mAttributeError\u001b[39m                            Traceback (most recent call last)",
      "\u001b[36mCell\u001b[39m\u001b[36m \u001b[39m\u001b[32mIn[5]\u001b[39m\u001b[32m, line 19\u001b[39m\n\u001b[32m     16\u001b[39m     files_adders.append(FilesAdder(i))\n\u001b[32m     18\u001b[39m \u001b[38;5;28;01mfor\u001b[39;00m files_adder \u001b[38;5;129;01min\u001b[39;00m files_adders:\n\u001b[32m---> \u001b[39m\u001b[32m19\u001b[39m     \u001b[43mfiles_adder\u001b[49m\u001b[43m.\u001b[49m\u001b[43mstart\u001b[49m()\n\u001b[32m     21\u001b[39m \u001b[38;5;28;01mfor\u001b[39;00m files_adder \u001b[38;5;129;01min\u001b[39;00m files_adders:\n\u001b[32m     22\u001b[39m     files_adder.join()\n",
      "\u001b[31mAttributeError\u001b[39m: 'NoneType' object has no attribute 'start'"
     ]
    }
   ],
   "source": [
    "from time import perf_counter\n",
    "start_time = perf_counter()\n",
    "\n",
    "def FilesReader(i):\n",
    "    filename = \"/Users/robinhamers/Documents/DataAnalyst/BECODE/2_DataBootcamp/LGG-Thomas5/01-TheField/02-Python/02-PythonAdvanced/06-Concurrency/data/data_part_\" + str(i) + \".txt\"\n",
    "    with open(filename, \"r\") as my_file:\n",
    "        return(my_file.read())\n",
    "    \n",
    "def FilesAdder(i):\n",
    "    filename = \"/Users/robinhamers/Documents/DataAnalyst/BECODE/2_DataBootcamp/LGG-Thomas5/01-TheField/02-Python/02-PythonAdvanced/06-Concurrency/data/data_all.txt\"\n",
    "    with open(filename, \"a\") as my_file:\n",
    "        my_file.write(FilesReader(i))\n",
    "\n",
    "files_adders = list()\n",
    "for i in range(1,11):\n",
    "    files_adders.append(FilesAdder(i))\n",
    "\n",
    "for files_adder in files_adders:\n",
    "    files_adder.start()\n",
    "\n",
    "for files_adder in files_adders:\n",
    "    files_adder.join()\n",
    "    \n",
    "print(f\"\\nTime spent inside the loop: {perf_counter() - start_time} seconds.\")\n",
    "\n",
    "\n",
    "\n"
   ]
  },
  {
   "cell_type": "code",
   "execution_count": 9,
   "metadata": {},
   "outputs": [
    {
     "name": "stdout",
     "output_type": "stream",
     "text": [
      "\n",
      "Time spent inside the loop: 0.006251249986235052 seconds.\n"
     ]
    }
   ],
   "source": [
    "from threading import Thread\n",
    "class Adder(Thread): # Sleeper is a Thread\n",
    "    def __init__(self, id): # Override Thread constructor\n",
    "        super().__init__() # Call the parent constructor. Not optional because we are overriding __init__\n",
    "        self.id = id\n",
    "\n",
    "    def FilesReader(self):\n",
    "        filename = \"/Users/robinhamers/Documents/DataAnalyst/BECODE/2_DataBootcamp/LGG-Thomas5/01-TheField/02-Python/02-PythonAdvanced/06-Concurrency/data/data_part_\" + str(self.id) + \".txt\"\n",
    "        with open(filename, \"r\") as my_file:\n",
    "            return(my_file.read())\n",
    "    \n",
    "    def FilesAdder(self):\n",
    "        filename = \"/Users/robinhamers/Documents/DataAnalyst/BECODE/2_DataBootcamp/LGG-Thomas5/01-TheField/02-Python/02-PythonAdvanced/06-Concurrency/data/data_all.txt\"\n",
    "        with open(filename, \"a\") as my_file:\n",
    "            my_file.write(FilesReader(self.id))\n",
    "\n",
    "start_time = perf_counter()\n",
    "\n",
    "for i in range(1, 11):\n",
    "    Adder(i).FilesAdder() # Not using threads\n",
    "\n",
    "print(f\"\\nTime spent inside the loop: {perf_counter() - start_time} seconds.\")"
   ]
  },
  {
   "cell_type": "markdown",
   "metadata": {},
   "source": [
    "### Exercise 2\n",
    "Scrap all the web pages in the `urls` list and display the links. 1 thread per link. "
   ]
  },
  {
   "cell_type": "code",
   "execution_count": null,
   "metadata": {},
   "outputs": [],
   "source": [
    "urls = [\n",
    "    \"http://www.python.org\",\n",
    "    \"http://www.python.org/about/\",\n",
    "    \"http://www.onlamp.com/pub/a/python/2003/04/17/metaclasses.html\",\n",
    "    \"http://www.python.org/doc/\",\n",
    "    \"http://www.python.org/download/\",\n",
    "    \"http://www.python.org/getit/\",\n",
    "    \"http://www.python.org/community/\",\n",
    "    \"https://wiki.python.org/moin/\",\n",
    "]"
   ]
  },
  {
   "cell_type": "code",
   "execution_count": null,
   "metadata": {},
   "outputs": [],
   "source": [
    "from bs4 import BeautifulSoup\n",
    "import requests\n",
    "\n",
    "from threading import Thread\n",
    "class Scrapping(Thread): # Sleeper is a Thread\n",
    "    def __init__(self, link): # Override Thread constructor\n",
    "        super().__init__() # Call the parent constructor. Not optional because we are overriding __init__\n",
    "        self.link = link\n",
    "\n",
    "    def Scrap(self):\n",
    "        # scrap each link\n",
    "        r = requests.get(url)\n",
    "        print(url, r.status_code)\n",
    "        soup = BeautifulSoup(r.content, \"html\")\n",
    "        soup\n",
    "\n",
    "\n",
    "start_time = perf_counter()\n",
    "\n",
    "for url in urls:\n",
    "    Scrapping(url).Scrap() # Not using threads\n",
    "\n",
    "print(f\"\\nTime spent inside the loop: {perf_counter() - start_time} seconds.\")\n",
    "\n",
    "\n",
    "\n",
    "\n",
    "### How to do this (need to add this part, corrected, into Scrap function above)\n",
    "\n"
   ]
  }
 ],
 "metadata": {
  "file_extension": ".py",
  "kernelspec": {
   "display_name": "3.11.6",
   "language": "python",
   "name": "python3"
  },
  "language_info": {
   "codemirror_mode": {
    "name": "ipython",
    "version": 3
   },
   "file_extension": ".py",
   "mimetype": "text/x-python",
   "name": "python",
   "nbconvert_exporter": "python",
   "pygments_lexer": "ipython3",
   "version": "3.11.6"
  },
  "mimetype": "text/x-python",
  "name": "python",
  "npconvert_exporter": "python",
  "pygments_lexer": "ipython3",
  "version": 3
 },
 "nbformat": 4,
 "nbformat_minor": 2
}
