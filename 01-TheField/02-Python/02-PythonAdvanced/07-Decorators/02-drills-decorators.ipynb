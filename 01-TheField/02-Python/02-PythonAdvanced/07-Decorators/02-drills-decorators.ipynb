{
 "cells": [
  {
   "cell_type": "markdown",
   "metadata": {},
   "source": [
    "# Drill - Decorators\n",
    "\n",
    "### Exercise 1\n",
    "Create a decorator that limits the execution of a function:\n",
    "\n",
    "When the function is executed too many times, an exception is thrown. The decorator must take one parameter, which is the number of times it is executed."
   ]
  },
  {
   "cell_type": "code",
   "execution_count": 1,
   "metadata": {},
   "outputs": [
    {
     "name": "stdout",
     "output_type": "stream",
     "text": [
      "Exécution de la fonction.\n",
      "Exécution de la fonction.\n",
      "Exécution de la fonction.\n",
      "La fonction 'test_function' a atteint sa limite d'exécutions (3).\n"
     ]
    }
   ],
   "source": [
    "def limit_execution(max_executions):\n",
    "    def decorator(func):\n",
    "        count = 0  # Compteur d'exécutions\n",
    "\n",
    "        def wrapper(*args, **kwargs):\n",
    "            nonlocal count\n",
    "            if count >= max_executions:\n",
    "                raise Exception(f\"La fonction '{func.__name__}' a atteint sa limite d'exécutions ({max_executions}).\")\n",
    "            count += 1\n",
    "            return func(*args, **kwargs)\n",
    "        \n",
    "        return wrapper\n",
    "    return decorator\n",
    "\n",
    "# Exemple d'utilisation\n",
    "@limit_execution(3)\n",
    "def test_function():\n",
    "    print(\"Exécution de la fonction.\")\n",
    "\n",
    "# Test\n",
    "try:\n",
    "    for _ in range(5):\n",
    "        test_function()\n",
    "except Exception as e:\n",
    "    print(e)"
   ]
  },
  {
   "cell_type": "markdown",
   "metadata": {},
   "source": [
    "### Exercise 2\n",
    "Create a decorator that controls what a function returns. The decorator must throw an exception if the function returns a string or an int."
   ]
  },
  {
   "cell_type": "code",
   "execution_count": 4,
   "metadata": {},
   "outputs": [
    {
     "name": "stdout",
     "output_type": "stream",
     "text": [
      "[1, 2, 3]\n",
      "La fonction 'test_invalid' ne doit pas retourner un 'str' ou un 'int'.\n"
     ]
    }
   ],
   "source": [
    "def restrict_return():\n",
    "    def decorator(func):\n",
    "        def wrapper(*args, **kwargs):\n",
    "            result = func(*args, **kwargs)\n",
    "            if isinstance(result, (str, int)):  # Vérifie le type du retour\n",
    "                raise TypeError(f\"La fonction '{func.__name__}' ne doit pas retourner un 'str' ou un 'int'.\")\n",
    "            return result\n",
    "        return wrapper\n",
    "    return decorator\n",
    "\n",
    "@restrict_return()\n",
    "def test_valid():\n",
    "    return [1, 2, 3]\n",
    "\n",
    "@restrict_return()\n",
    "def test_invalid():\n",
    "    return \"Ceci est une chaîne\"\n",
    "\n",
    "try:\n",
    "    print(test_valid()) \n",
    "    print(test_invalid())\n",
    "except Exception as e:\n",
    "    print(e)"
   ]
  },
  {
   "cell_type": "markdown",
   "metadata": {},
   "source": [
    "### Exercise 3\n",
    "A decorator that displays the time it took for the function to run (basic)."
   ]
  },
  {
   "cell_type": "code",
   "execution_count": null,
   "metadata": {},
   "outputs": [
    {
     "name": "stdout",
     "output_type": "stream",
     "text": [
      "Temps d'exécution de 'slow_function': 2.0051 secondes\n",
      "Terminé\n"
     ]
    }
   ],
   "source": [
    "import time\n",
    "\n",
    "def time_it():\n",
    "    def decorator(func):\n",
    "        def wrapper(*args, **kwargs):\n",
    "            start_time = time.time()\n",
    "            result = func(*args, **kwargs)\n",
    "            end_time = time.time()\n",
    "            print(f\"Temps d'exécution de '{func.__name__}': {end_time - start_time:.4f} secondes\")\n",
    "            return result\n",
    "        return wrapper\n",
    "    return decorator\n",
    "\n",
    "@time_it()\n",
    "def slow_function():\n",
    "    time.sleep(2)\n",
    "    return \"Terminé\"\n",
    "\n",
    "print(slow_function())"
   ]
  },
  {
   "cell_type": "code",
   "execution_count": null,
   "metadata": {},
   "outputs": [],
   "source": []
  }
 ],
 "metadata": {
  "kernelspec": {
   "display_name": "3.11.6",
   "language": "python",
   "name": "python3"
  },
  "language_info": {
   "codemirror_mode": {
    "name": "ipython",
    "version": 3
   },
   "file_extension": ".py",
   "mimetype": "text/x-python",
   "name": "python",
   "nbconvert_exporter": "python",
   "pygments_lexer": "ipython3",
   "version": "3.11.6"
  }
 },
 "nbformat": 4,
 "nbformat_minor": 2
}
